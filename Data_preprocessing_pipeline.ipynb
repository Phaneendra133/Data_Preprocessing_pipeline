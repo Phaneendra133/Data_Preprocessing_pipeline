{
  "nbformat": 4,
  "nbformat_minor": 0,
  "metadata": {
    "colab": {
      "provenance": []
    },
    "kernelspec": {
      "name": "python3",
      "display_name": "Python 3"
    },
    "language_info": {
      "name": "python"
    }
  },
  "cells": [
    {
      "cell_type": "code",
      "execution_count": 20,
      "metadata": {
        "id": "XwzMxDhRkivd"
      },
      "outputs": [],
      "source": [
        "import pandas as pd\n",
        "import numpy as np\n",
        "from sklearn.preprocessing import StandardScaler\n",
        "\n",
        "def data_preprocessing(df):\n",
        "  #identifying numeric and categorical features\n",
        "  categorical_features = []\n",
        "  numeric_features = []\n",
        "  for features in df.columns:\n",
        "    if df[features].dtype=='O':\n",
        "      categorical_features.append(features)\n",
        "    else:\n",
        "      numeric_features.append(features)\n",
        "  print(f\"Categorical columns in the given dataset:{categorical_features}\")\n",
        "  print(f\"Numerical columns in the given dataset: {numeric_features}\")\n",
        "\n",
        "  #handling missing values\n",
        "  #for loop?\n",
        "  #for features in numeric_features:\n",
        "  df[numeric_features]=df[numeric_features].fillna(df[numeric_features].mean())\n",
        "\n",
        "  #Handling outliers\n",
        "  for features in numeric_features:\n",
        "    Q1=df[features].quantile(0.25)\n",
        "    Q3=df[features].quantile(0.75)\n",
        "    IQR=Q3-Q1\n",
        "    lower_bound=Q1-(1.5*IQR)\n",
        "    upper_bound=Q3+(1.5*IQR)\n",
        "    df[features]=np.where((df[features]<lower_bound) | (df[features]>upper_bound),df[features].mean(),df[features])\n",
        "\n",
        "  #Normalize numeric features\n",
        "  scaler=StandardScaler()\n",
        "  scaled_data=scaler.fit_transform(df[numeric_features])\n",
        "  df[numeric_features]=scaler.transform(df[numeric_features])\n",
        "\n",
        "  #Handling missing data\n",
        "  df[categorical_features]=df[categorical_features].fillna(df[categorical_features].mode().iloc[0])\n",
        "\n",
        "  return df"
      ]
    },
    {
      "cell_type": "code",
      "source": [
        "data=pd.read_csv('/content/sample_data/data (1).csv')\n",
        "print(data.head())"
      ],
      "metadata": {
        "colab": {
          "base_uri": "https://localhost:8080/"
        },
        "id": "UsE0qPEjmPJK",
        "outputId": "169d6ffb-072c-4d81-ba79-ff228a5839b5"
      },
      "execution_count": 21,
      "outputs": [
        {
          "output_type": "stream",
          "name": "stdout",
          "text": [
            "   NumericFeature1  NumericFeature2 CategoricalFeature\n",
            "0              1.0                7                  A\n",
            "1              2.0                8                  B\n",
            "2              NaN                9                NaN\n",
            "3              4.0               10                  A\n",
            "4              5.0               11                  B\n"
          ]
        }
      ]
    },
    {
      "cell_type": "code",
      "source": [
        "data.isnull().sum()"
      ],
      "metadata": {
        "colab": {
          "base_uri": "https://localhost:8080/"
        },
        "id": "64BLfPY0DGaJ",
        "outputId": "db06d9ea-48b3-41fa-f0b7-d3639cf83dd8"
      },
      "execution_count": 22,
      "outputs": [
        {
          "output_type": "execute_result",
          "data": {
            "text/plain": [
              "NumericFeature1       1\n",
              "NumericFeature2       0\n",
              "CategoricalFeature    1\n",
              "dtype: int64"
            ]
          },
          "metadata": {},
          "execution_count": 22
        }
      ]
    },
    {
      "cell_type": "code",
      "source": [
        "transformed_data=data_preprocessing(data)\n",
        "print(transformed_data)"
      ],
      "metadata": {
        "colab": {
          "base_uri": "https://localhost:8080/"
        },
        "id": "b1OSt2fEm3ah",
        "outputId": "4e0555c1-239f-4a4e-ab3e-283fcce6244a"
      },
      "execution_count": 23,
      "outputs": [
        {
          "output_type": "stream",
          "name": "stdout",
          "text": [
            "Categorical columns in the given dataset:['CategoricalFeature']\n",
            "Numerical columns in the given dataset: ['NumericFeature1', 'NumericFeature2']\n",
            "   NumericFeature1  NumericFeature2 CategoricalFeature\n",
            "0        -1.535624        -1.099370                  A\n",
            "1        -0.944999        -0.749128                  B\n",
            "2         0.000000        -0.398886                  A\n",
            "3         0.236250        -0.048645                  A\n",
            "4         0.826874         0.301597                  B\n",
            "5         1.417499         1.994431                  C\n"
          ]
        }
      ]
    },
    {
      "cell_type": "code",
      "source": [],
      "metadata": {
        "id": "LaMMKdhQnMPV"
      },
      "execution_count": null,
      "outputs": []
    }
  ]
}